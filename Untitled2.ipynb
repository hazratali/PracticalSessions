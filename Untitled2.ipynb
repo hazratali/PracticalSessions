{
  "nbformat": 4,
  "nbformat_minor": 0,
  "metadata": {
    "colab": {
      "name": "Untitled2.ipynb",
      "version": "0.3.2",
      "provenance": [],
      "collapsed_sections": [],
      "include_colab_link": true
    },
    "kernelspec": {
      "name": "python3",
      "display_name": "Python 3"
    }
  },
  "cells": [
    {
      "cell_type": "markdown",
      "metadata": {
        "id": "view-in-github",
        "colab_type": "text"
      },
      "source": [
        "<a href=\"https://colab.research.google.com/github/hazratali/PracticalSessions/blob/master/Untitled2.ipynb\" target=\"_parent\"><img src=\"https://colab.research.google.com/assets/colab-badge.svg\" alt=\"Open In Colab\"/></a>"
      ]
    },
    {
      "cell_type": "code",
      "metadata": {
        "id": "JzCabybGCKKb",
        "colab_type": "code",
        "colab": {}
      },
      "source": [
        "#Practice on INTRO_NUMPY\n",
        "from __future__ import absolute_import\n",
        "from __future__ import division\n",
        "from __future__ import print_function\n",
        "\n",
        "import numpy as np"
      ],
      "execution_count": 0,
      "outputs": []
    },
    {
      "cell_type": "code",
      "metadata": {
        "id": "azw8EiLiCQ4M",
        "colab_type": "code",
        "colab": {
          "base_uri": "https://localhost:8080/",
          "height": 68
        },
        "outputId": "a1f06402-8897-4572-ef26-f8b36155ee7c"
      },
      "source": [
        "arr = np.random.random((3, 2))  # Array of shape (3, 2), entries uniform in [0, 1).\n",
        "print(arr)"
      ],
      "execution_count": 8,
      "outputs": [
        {
          "output_type": "stream",
          "text": [
            "[[0.64914405 0.27848728]\n",
            " [0.6762549  0.59086282]\n",
            " [0.02398188 0.55885409]]\n"
          ],
          "name": "stdout"
        }
      ]
    },
    {
      "cell_type": "code",
      "metadata": {
        "id": "pjrpmNNGDT2e",
        "colab_type": "code",
        "colab": {
          "base_uri": "https://localhost:8080/",
          "height": 204
        },
        "outputId": "6fc00065-eb15-48de-cfe1-d06f298261d1"
      },
      "source": [
        "# If we want to create an array with hard-coded values\n",
        "ar = np.array([\n",
        "    [0.0, 0.2],\n",
        "    [0.9, 0.5],\n",
        "    [0.3, 0.7],\n",
        "], dtype=np.float64)  # float64 is the default.\n",
        "\n",
        "print('The array is: \\n', ar)\n",
        "print()\n",
        "print('data type: ', ar.dtype)\n",
        "print('Shape is: ', ar.shape)\n",
        "print('Transpose is: ', ar.T)\n",
        "print('Array is reshaped:\\n',ar.reshape(6))"
      ],
      "execution_count": 21,
      "outputs": [
        {
          "output_type": "stream",
          "text": [
            "The array is: \n",
            " [[0.  0.2]\n",
            " [0.9 0.5]\n",
            " [0.3 0.7]]\n",
            "\n",
            "data type:  float64\n",
            "Shape is:  (3, 2)\n",
            "Transpose is:  [[0.  0.9 0.3]\n",
            " [0.2 0.5 0.7]]\n",
            "Array is reshaped:\n",
            " [0.  0.2 0.9 0.5 0.3 0.7]\n"
          ],
          "name": "stdout"
        }
      ]
    }
  ]
}